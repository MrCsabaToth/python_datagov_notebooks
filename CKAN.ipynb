{
 "cells": [
  {
   "cell_type": "markdown",
   "metadata": {},
   "source": [
    "# Using ckanapi"
   ]
  },
  {
   "cell_type": "markdown",
   "metadata": {},
   "source": [
    "`ckanapi` is a python module for consuming data publishes using CKAN - which `data.gov` happens to use."
   ]
  },
  {
   "cell_type": "code",
   "execution_count": null,
   "metadata": {
    "collapsed": true
   },
   "outputs": [],
   "source": [
    "from ckanapi import RemoteCKAN\n",
    "import json\n",
    "\n",
    "data_gov = RemoteCKAN('http://catalog.data.gov/', get_only=True)\n",
    "\n",
    "response = data_gov.action.package_search()"
   ]
  },
  {
   "cell_type": "code",
   "execution_count": 3,
   "metadata": {
    "collapsed": false
   },
   "outputs": [
    {
     "data": {
      "text/plain": [
       "dict_keys(['results', 'search_facets', 'count', 'facets'])"
      ]
     },
     "execution_count": 3,
     "metadata": {},
     "output_type": "execute_result"
    }
   ],
   "source": [
    "response.keys()"
   ]
  },
  {
   "cell_type": "code",
   "execution_count": 4,
   "metadata": {
    "collapsed": false
   },
   "outputs": [
    {
     "data": {
      "text/plain": [
       "({}, {}, 193661)"
      ]
     },
     "execution_count": 4,
     "metadata": {},
     "output_type": "execute_result"
    }
   ],
   "source": [
    "response['facets'], response['search_facets'], response['count']"
   ]
  },
  {
   "cell_type": "code",
   "execution_count": 5,
   "metadata": {
    "collapsed": false
   },
   "outputs": [
    {
     "data": {
      "text/plain": [
       "10"
      ]
     },
     "execution_count": 5,
     "metadata": {},
     "output_type": "execute_result"
    }
   ],
   "source": [
    "results = response['results']\n",
    "len(results)"
   ]
  },
  {
   "cell_type": "markdown",
   "metadata": {},
   "source": [
    "Lets see what each result contains:"
   ]
  },
  {
   "cell_type": "code",
   "execution_count": 6,
   "metadata": {
    "collapsed": false
   },
   "outputs": [
    {
     "data": {
      "text/plain": [
       "dict_keys(['private', 'title', 'version', 'tracking_summary', 'license_title', 'owner_org', 'id', 'type', 'isopen', 'author_email', 'name', 'author', 'maintainer', 'extras', 'relationships_as_object', 'groups', 'resources', 'relationships_as_subject', 'revision_timestamp', 'metadata_modified', 'num_tags', 'license_id', 'metadata_created', 'tags', 'url', 'organization', 'notes', 'state', 'num_resources', 'revision_id', 'maintainer_email'])"
      ]
     },
     "execution_count": 6,
     "metadata": {},
     "output_type": "execute_result"
    }
   ],
   "source": [
    "results[0].keys()"
   ]
  },
  {
   "cell_type": "markdown",
   "metadata": {},
   "source": [
    "Looks like each result may have multiple resources"
   ]
  },
  {
   "cell_type": "code",
   "execution_count": 8,
   "metadata": {
    "collapsed": false
   },
   "outputs": [
    {
     "data": {
      "text/plain": [
       "5"
      ]
     },
     "execution_count": 8,
     "metadata": {},
     "output_type": "execute_result"
    }
   ],
   "source": [
    "results[0]['num_resources']"
   ]
  },
  {
   "cell_type": "markdown",
   "metadata": {},
   "source": [
    "Produce a count of the different format types in the returned resources"
   ]
  },
  {
   "cell_type": "code",
   "execution_count": 9,
   "metadata": {
    "collapsed": false
   },
   "outputs": [
    {
     "data": {
      "text/plain": [
       "Counter({'': 10,\n",
       "         'CSV': 10,\n",
       "         'Esri REST': 1,\n",
       "         'Excel': 1,\n",
       "         'HTML': 7,\n",
       "         'JSON': 3,\n",
       "         'KMZ': 1,\n",
       "         'PDF': 1,\n",
       "         'RDF': 2,\n",
       "         'TAR': 2,\n",
       "         'XML': 3,\n",
       "         'api': 1,\n",
       "         'zipped csv': 1})"
      ]
     },
     "execution_count": 9,
     "metadata": {},
     "output_type": "execute_result"
    }
   ],
   "source": [
    "from collections import Counter\n",
    "formats_counted = Counter([rsc['format'] for r in results for rsc in r['resources']])\n",
    "formats_counted"
   ]
  },
  {
   "cell_type": "markdown",
   "metadata": {},
   "source": [
    "But if we want to query for resources that are only `csv` then `data.gov` breaks."
   ]
  },
  {
   "cell_type": "code",
   "execution_count": 11,
   "metadata": {
    "collapsed": false
   },
   "outputs": [],
   "source": [
    "#This is valid, but produces a 503 error\n",
    "#response = data_gov.action.resource_search(query=\"format:csv\")"
   ]
  },
  {
   "cell_type": "markdown",
   "metadata": {},
   "source": [
    "We can instead use `requests` to directly query and older version of the CKAN api."
   ]
  },
  {
   "cell_type": "code",
   "execution_count": 13,
   "metadata": {
    "collapsed": false
   },
   "outputs": [
    {
     "data": {
      "text/plain": [
       "14243"
      ]
     },
     "execution_count": 13,
     "metadata": {},
     "output_type": "execute_result"
    }
   ],
   "source": [
    "import requests\n",
    "\n",
    "#go with the legacy api\n",
    "response = requests.get('http://catalog.data.gov/api/search/dataset', params={'all_fields':1, 'res_format':'CSV'}).json()\n",
    "results = response['results']\n",
    "response['count']"
   ]
  },
  {
   "cell_type": "code",
   "execution_count": 14,
   "metadata": {
    "collapsed": false
   },
   "outputs": [
    {
     "data": {
      "text/plain": [
       "['05to09 Iquery Hep Cchronic Data',\n",
       " '05to12 Iquery Crypto Data',\n",
       " '05to12 Iquery Hep AData',\n",
       " '05to12 Iquery Hep Bchronic Data',\n",
       " '05to12 Iquery Histo Data',\n",
       " '05to12 Iquery Leg Data',\n",
       " '05to12 Iquery List Data',\n",
       " '05to12 Iquery Lyme Data',\n",
       " '05to12 Iquery Mumps Data',\n",
       " '05to12 Iquery NMen Data']"
      ]
     },
     "execution_count": 14,
     "metadata": {},
     "output_type": "execute_result"
    }
   ],
   "source": [
    "[dataset['title'] for dataset in results]"
   ]
  },
  {
   "cell_type": "markdown",
   "metadata": {},
   "source": [
    "The result structure is different from `CKAN 3`"
   ]
  },
  {
   "cell_type": "code",
   "execution_count": 15,
   "metadata": {
    "collapsed": false
   },
   "outputs": [
    {
     "data": {
      "text/plain": [
       "['https://data.illinois.gov/api/views/rry2-usaj/rows.csv?accessType=DOWNLOAD',\n",
       " 'https://data.illinois.gov/api/views/5cng-jyjz/rows.csv?accessType=DOWNLOAD',\n",
       " 'https://data.illinois.gov/api/views/rjxh-tv66/rows.csv?accessType=DOWNLOAD',\n",
       " 'https://data.illinois.gov/api/views/pwfa-6r2g/rows.csv?accessType=DOWNLOAD',\n",
       " 'https://data.illinois.gov/api/views/h79e-pjdp/rows.csv?accessType=DOWNLOAD',\n",
       " 'https://data.illinois.gov/api/views/iyx8-kpar/rows.csv?accessType=DOWNLOAD',\n",
       " 'https://data.illinois.gov/api/views/udvf-7ip4/rows.csv?accessType=DOWNLOAD',\n",
       " 'https://data.illinois.gov/api/views/wcrd-n5pw/rows.csv?accessType=DOWNLOAD',\n",
       " 'https://data.illinois.gov/api/views/jshf-mnjc/rows.csv?accessType=DOWNLOAD',\n",
       " 'https://data.illinois.gov/api/views/36yw-y8bn/rows.csv?accessType=DOWNLOAD']"
      ]
     },
     "execution_count": 15,
     "metadata": {},
     "output_type": "execute_result"
    }
   ],
   "source": [
    "[dataset['res_url'][dataset['res_format'].index('CSV')] for dataset in results]"
   ]
  },
  {
   "cell_type": "code",
   "execution_count": 16,
   "metadata": {
    "collapsed": false
   },
   "outputs": [
    {
     "data": {
      "text/plain": [
       "dict_keys(['title', 'res_description', 'metadata_created', 'data_dict', 'capacity', 'id', 'site_id', '_version_', 'dataset_type', 'name', 'res_url', 'maintainer', 'extras', 'groups', 'res_format', 'index_id', 'metadata_modified', 'license_id', 'tags', 'indexed_ts', 'entity_type', 'notes', 'state', 'revision_id', 'maintainer_email'])"
      ]
     },
     "execution_count": 16,
     "metadata": {},
     "output_type": "execute_result"
    }
   ],
   "source": [
    "results[0].keys()"
   ]
  },
  {
   "cell_type": "code",
   "execution_count": null,
   "metadata": {
    "collapsed": true
   },
   "outputs": [],
   "source": []
  }
 ],
 "metadata": {
  "kernelspec": {
   "display_name": "Python 3",
   "language": "python",
   "name": "python3"
  },
  "language_info": {
   "codemirror_mode": {
    "name": "ipython",
    "version": 3
   },
   "file_extension": ".py",
   "mimetype": "text/x-python",
   "name": "python",
   "nbconvert_exporter": "python",
   "pygments_lexer": "ipython3",
   "version": "3.5.2"
  }
 },
 "nbformat": 4,
 "nbformat_minor": 1
}
